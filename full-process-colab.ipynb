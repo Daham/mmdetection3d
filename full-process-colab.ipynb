# Import the Google Drive module from Google Colab to interact with Google Drive
from google.colab import drive

# Mount your Google Drive to access files stored in it
drive.mount('/content/drive')

# Import PyTorch to verify the installed version
import torch

# Print the version of PyTorch installed in the Colab environment
print(f"PyTorch version: {torch.__version__}")

# Uninstall existing versions of PyTorch, torchvision, and torchaudio to ensure a clean environment
!pip uninstall -y torch torchvision torchaudio

# Install specific versions of PyTorch, torchvision, and torchaudio compatible with CUDA 11.8
!pip install torch==2.0.0+cu118 torchvision==0.15.1+cu118 torchaudio==2.0.1 --extra-index-url https://download.pytorch.org/whl/cu118

# Install MMEngine, the engine that supports OpenMMLab frameworks like MMDetection3D
!pip install mmengine==0.9.1

# Install MMCV (OpenMMLab's foundational library) with CUDA 11.8 and PyTorch 2.0.0 support
!pip install mmcv==2.0.0 -f https://download.openmmlab.com/mmcv/dist/cu118/torch2.0.0/index.html

# Install MMDetection (2D object detection framework by OpenMMLab)
!pip install mmdet==3.0.0

# Install MMDetection3D (3D object detection framework by OpenMMLab)
!pip install mmdet3d==1.1.0

# Clone the MMDetection3D GitHub repository to the current working directory
!git clone https://github.com/open-mmlab/mmdetection3d.git

# Change the current working directory to the cloned MMDetection3D directory
%cd mmdetection3d

# Install additional build dependencies required by MMDetection3D
!pip install -r requirements/build.txt

# Install MMDetection3D in editable mode to allow direct modifications to the code
!pip install -e .

# Generate KITTI dataset information files needed for training and testing
!python tools/create_data.py kitti \
    --root-path /content/drive/MyDrive/KITTI \  # Specify the root path of the KITTI dataset
    --out-dir /content/drive/MyDrive/KITTI \    # Specify the output directory for the generated files
    --extra-tag kitti                           # Add a tag to identify the dataset

# Train the SECOND (Sparse Encoders for Object Detection) model on the KITTI dataset
!python tools/train.py configs/second/second_hv_secfpn_8xb6-80e_kitti-3d-car.py \
    --work-dir work_dirs/second/                 # Specify the directory to save logs and model checkpoints

# Test the trained SECOND model using a specific checkpoint
!python tools/test.py configs/second/second_hv_secfpn_8xb6-80e_kitti-3d-car.py \
    work_dirs/second/epoch_40.pth --task lidar_det  # Use the specified checkpoint to evaluate LiDAR-based detection
